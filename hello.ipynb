{
 "cells": [
  {
   "cell_type": "code",
   "execution_count": 15,
   "metadata": {},
   "outputs": [],
   "source": [
    "from IPython import get_ipython\n",
    "from IPython.core.magic import Magics, cell_magic, magics_class\n",
    "from IPython.display import display\n",
    "from IPython.utils.capture import capture_output\n",
    "import random\n",
    "\n",
    "\n",
    "@magics_class\n",
    "class ReverseCell(Magics):\n",
    "    @cell_magic\n",
    "    def reverse_cell(self, line, cell):\n",
    "        with capture_output(stdout=False, stderr=False, display=True) as result:\n",
    "            cell_lines = cell.split(\"\\n\")\n",
    "            reversed_cell_lines = list(reversed(cell_lines))\n",
    "            reversed_cell = \"\\n\".join(reversed_cell_lines)\n",
    "            self.shell.run_cell(reversed_cell)\n",
    "        for output in result.outputs:\n",
    "            display(output)\n",
    "\n",
    "    @cell_magic\n",
    "    def shuffle_cell(self, line, cell):\n",
    "        with capture_output(stdout=False, stderr=False, display=True) as result:\n",
    "            cell_lines = cell.split(\"\\n\")\n",
    "            random.shuffle(cell_lines)\n",
    "            shuffled_cell = \"\\n\".join(cell_lines)\n",
    "            self.shell.run_cell(shuffled_cell)\n",
    "        for output in result.outputs:\n",
    "            display(output)\n",
    "\n",
    "ipy = get_ipython()\n",
    "ipy.register_magics(ReverseCell)\n"
   ]
  },
  {
   "cell_type": "code",
   "execution_count": 49,
   "metadata": {},
   "outputs": [
    {
     "name": "stdout",
     "output_type": "stream",
     "text": [
      "Paul\n",
      "Ringo\n",
      "John\n",
      "George\n"
     ]
    }
   ],
   "source": [
    "%%shuffle_cell\n",
    "print(\"John\")\n",
    "print(\"Paul\")\n",
    "print(\"Ringo\")\n",
    "print(\"George\")"
   ]
  },
  {
   "cell_type": "code",
   "execution_count": null,
   "metadata": {},
   "outputs": [],
   "source": []
  }
 ],
 "metadata": {
  "kernelspec": {
   "display_name": "Python 3.9.12 ('cellmixer_env': venv)",
   "language": "python",
   "name": "python3"
  },
  "language_info": {
   "codemirror_mode": {
    "name": "ipython",
    "version": 3
   },
   "file_extension": ".py",
   "mimetype": "text/x-python",
   "name": "python",
   "nbconvert_exporter": "python",
   "pygments_lexer": "ipython3",
   "version": "3.9.12"
  },
  "orig_nbformat": 4,
  "vscode": {
   "interpreter": {
    "hash": "dca82c98432af8a1d0bf40cdb2b0fb2dc7829f6fba1d771bc16a2844eeb0b991"
   }
  }
 },
 "nbformat": 4,
 "nbformat_minor": 2
}
