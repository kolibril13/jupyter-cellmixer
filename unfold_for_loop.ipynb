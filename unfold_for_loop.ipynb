{
 "cells": [
  {
   "cell_type": "markdown",
   "metadata": {},
   "source": [
    "\n",
    "```py\n",
    "    @cell_magic\n",
    "    def unfold_for_loop(self, magicline, cell):\n",
    "        with capture_output(stdout=False, stderr=False, display=True) as result:\n",
    "            cell_lines = cell.split(\"\\n\")\n",
    "            variable_definition_line = cell_lines[0] # probably a bad idea.\n",
    "            for_loop_line = cell_lines[1]\n",
    "            cell_lines.pop(0)\n",
    "            cell_lines.pop(0)\n",
    "\n",
    "            line_elements = for_loop_line.strip(\":\").split(\" \")\n",
    "            variable = line_elements[-1]\n",
    "            print(variable)\n",
    "\n",
    "            final_lines = \"\\n\".join(cell_lines)\n",
    "            print(final_lines)\n",
    "        #    self.shell.run_cell(final_lines)\n",
    "        #for output in result.outputs:\n",
    "        #    display(output)\n",
    "```"
   ]
  },
  {
   "cell_type": "code",
   "execution_count": 1,
   "metadata": {},
   "outputs": [
    {
     "name": "stdout",
     "output_type": "stream",
     "text": [
      "print(1)\n",
      "print(2)\n",
      "print(3)\n",
      "print(4)\n",
      "print(5)\n"
     ]
    }
   ],
   "source": [
    "def unfold_code_block(cell):\n",
    "    cell_lines = cell.split(\"\\n\")\n",
    "\n",
    "    l1 = cell_lines[1] \n",
    "    l1_list = l1.split(\" \")[-1]\n",
    "\n",
    "    l2 = cell_lines[2] \n",
    "    l2_variable = l2.split(\" \")[1]\n",
    "\n",
    "    l3 = cell_lines[3] \n",
    "    convert_list = eval(l1_list)\n",
    "    for element in convert_list:\n",
    "        new_line = cell_lines[3].strip(\"   \")\n",
    "        new_line = new_line.replace(l2_variable , str(element)) \n",
    "        print(new_line)\n",
    "\n",
    "my_cell = \"\"\"\n",
    "points = [1,2,3,4,5]\n",
    "for point in points:\n",
    "    print(point)\n",
    "\"\"\"\n",
    "\n",
    "unfold_code_block(my_cell)"
   ]
  },
  {
   "cell_type": "markdown",
   "metadata": {},
   "source": []
  }
 ],
 "metadata": {
  "kernelspec": {
   "display_name": "Python 3.9.12 ('cellmixer_env': venv)",
   "language": "python",
   "name": "python3"
  },
  "language_info": {
   "codemirror_mode": {
    "name": "ipython",
    "version": 3
   },
   "file_extension": ".py",
   "mimetype": "text/x-python",
   "name": "python",
   "nbconvert_exporter": "python",
   "pygments_lexer": "ipython3",
   "version": "3.9.12"
  },
  "orig_nbformat": 4,
  "vscode": {
   "interpreter": {
    "hash": "dca82c98432af8a1d0bf40cdb2b0fb2dc7829f6fba1d771bc16a2844eeb0b991"
   }
  }
 },
 "nbformat": 4,
 "nbformat_minor": 2
}
